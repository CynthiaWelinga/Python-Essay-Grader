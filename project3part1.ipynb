{
 "cells": [
  {
   "cell_type": "code",
   "execution_count": 23,
   "metadata": {},
   "outputs": [
    {
     "name": "stdout",
     "output_type": "stream",
     "text": [
      "text TTR: 0.12218413646851702\n",
      "average TTR for all segments: 0.47960735148977035\n"
     ]
    }
   ],
   "source": [
    "#code works\n",
    "from string import punctuation\n",
    "from collections import Counter\n",
    "\n",
    "#function for TTR for an entire text\n",
    "def text_TTR(text):\n",
    "    #open and read file\n",
    "    with open(text, \"r\",encoding='utf-8') as F:\n",
    "        text = F.read()\n",
    "        lines = text.splitlines()\n",
    "        tokens = []\n",
    "    for word in text.split():\n",
    "        tokens.append(word.strip(punctuation).lower())\n",
    "    types = Counter(tokens) \n",
    "    TTR = len(types)/len(tokens)\n",
    "    return TTR\n",
    "print(\"text TTR:\",text_TTR(\"Agatha.txt\"))\n",
    "\n",
    "#normalize the function by breaking into chunks\n",
    "def book_segments(textfile):\n",
    "    #open and read file\n",
    "    with open(textfile, \"r\",encoding='utf-8') as F:\n",
    "        text = F.read()\n",
    "        words = text.split()\n",
    "        segments = []\n",
    "        n = 2\n",
    "    for i in range(0, len(words), n):\n",
    "        segments.append(\" \".join(words[i:i+n]))   \n",
    "    return segments\n",
    "\n",
    "#find the TTR for segments and return the average TTR\n",
    "def segments_TTRs(filename):\n",
    "    with open(filename, \"r\",encoding='utf-8') as F:\n",
    "        text = F.read()\n",
    "        segments = book_segments(\"Agatha.txt\")\n",
    "    avg = 0 \n",
    "    segments_TTRs = {}\n",
    "    for segment in segments:\n",
    "        types = Counter(segment[1].split())\n",
    "        segment_TTR = len(types)/len(segment.split())\n",
    "        avg += segment_TTR\n",
    "        \n",
    "    avg = avg / len(segments)\n",
    "    return avg\n",
    "print (\"average TTR for all segments:\",segments_TTRs(\"Agatha.txt\"))\n",
    "        "
   ]
  },
  {
   "cell_type": "code",
   "execution_count": null,
   "metadata": {},
   "outputs": [],
   "source": []
  },
  {
   "cell_type": "code",
   "execution_count": null,
   "metadata": {
    "collapsed": true
   },
   "outputs": [],
   "source": []
  },
  {
   "cell_type": "code",
   "execution_count": null,
   "metadata": {
    "collapsed": true
   },
   "outputs": [],
   "source": []
  }
 ],
 "metadata": {
  "kernelspec": {
   "display_name": "Python 3",
   "language": "python",
   "name": "python3"
  },
  "language_info": {
   "codemirror_mode": {
    "name": "ipython",
    "version": 3
   },
   "file_extension": ".py",
   "mimetype": "text/x-python",
   "name": "python",
   "nbconvert_exporter": "python",
   "pygments_lexer": "ipython3",
   "version": "3.6.1"
  }
 },
 "nbformat": 4,
 "nbformat_minor": 2
}
