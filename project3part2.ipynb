{
 "cells": [
  {
   "cell_type": "code",
   "execution_count": 4,
   "metadata": {},
   "outputs": [
    {
     "ename": "ModuleNotFoundError",
     "evalue": "No module named 'enchant'",
     "output_type": "error",
     "traceback": [
      "\u001b[0;31m---------------------------------------------------------------------------\u001b[0m",
      "\u001b[0;31mModuleNotFoundError\u001b[0m                       Traceback (most recent call last)",
      "\u001b[0;32m<ipython-input-4-8815f683144a>\u001b[0m in \u001b[0;36m<module>\u001b[0;34m()\u001b[0m\n\u001b[1;32m      1\u001b[0m \u001b[0;31m#code works\u001b[0m\u001b[0;34m\u001b[0m\u001b[0;34m\u001b[0m\u001b[0m\n\u001b[0;32m----> 2\u001b[0;31m \u001b[0;32mfrom\u001b[0m \u001b[0menchant\u001b[0m\u001b[0;34m.\u001b[0m\u001b[0mchecker\u001b[0m \u001b[0;32mimport\u001b[0m \u001b[0mSpellChecker\u001b[0m\u001b[0;34m\u001b[0m\u001b[0m\n\u001b[0m\u001b[1;32m      3\u001b[0m \u001b[0;32mfrom\u001b[0m \u001b[0mrandom\u001b[0m \u001b[0;32mimport\u001b[0m \u001b[0mrandint\u001b[0m\u001b[0;34m\u001b[0m\u001b[0m\n\u001b[1;32m      4\u001b[0m \u001b[0;34m\u001b[0m\u001b[0m\n\u001b[1;32m      5\u001b[0m \u001b[0;31m#grade for number of spelling errors\u001b[0m\u001b[0;34m\u001b[0m\u001b[0;34m\u001b[0m\u001b[0m\n",
      "\u001b[0;31mModuleNotFoundError\u001b[0m: No module named 'enchant'"
     ]
    }
   ],
   "source": [
    "#code works\n",
    "from enchant.checker import SpellChecker\n",
    "from random import randint\n",
    "\n",
    "#grade for number of spelling errors\n",
    "def chkr_set_text(filename):\n",
    "    chkr = SpellChecker(\"en_GB\")\n",
    "    with open(filename, \"r\",encoding='utf-8') as F:\n",
    "        text = F.read()\n",
    "    chkr.set_text(text)\n",
    "    error_word = []\n",
    "    spelling_score = 0\n",
    "    for err in chkr:\n",
    "        error_word.append(err.word)\n",
    "        if len(error_word) >= 30:\n",
    "            spelling_score = randint(4,5)\n",
    "        elif len(error_word) <= 25:\n",
    "            spelling_score = randint(6,9)\n",
    "        elif len(error_word) <= 10:\n",
    "            spelling_score = randint(9,10)\n",
    "    spelling_score = spelling_score *1.5\n",
    "    return spelling_score\n",
    "    \n",
    "#clarity and simplicity 15% as cs_score\n",
    "def simplicity_clarity(filename):\n",
    "    regular_words = [\"and\",\"is\",\"very\",\"also\",\"because\",\"like\"]\n",
    "    for word in regular_words:\n",
    "        if len(regular_words) >= 70:\n",
    "            regular_words_score = randint(4,5)\n",
    "        elif len(regular_words) == 50:\n",
    "            regular_words_score = randint(6,8)\n",
    "        elif len(regular_words) < 30:\n",
    "            regular_words_score = randint(9,10)  \n",
    "    regular_words_score = regular_words_score * 1.5\n",
    "    return regular_words_score\n",
    "\n",
    "#cognitive ability 20% as ca_score\n",
    "def TTR_score(filename):\n",
    "    TTR = text_TTR(filename)\n",
    "    TTR = int(TTR * 100)\n",
    "    TTR_score = 0\n",
    "    if TTR >= 25:\n",
    "        TTR_score = 1\n",
    "    elif TTR == 25:\n",
    "        TTR_score = 0.5\n",
    "    elif TTR <= 10:\n",
    "        TTR_score = TTR/30\n",
    "    TTR_score = TTR_score *20\n",
    "    return TTR_score\n",
    "\n",
    "#length 50% as l_score\n",
    "def length_score(filename):\n",
    "    length = len(book_segments(filename))\n",
    "    if length >= 60:\n",
    "        length_score = randint(9,10)\n",
    "    elif length <= 60:\n",
    "        length_score = randint(4,6)\n",
    "    elif length <20:\n",
    "        length_score = randint(2,4)\n",
    "    length_score = length_score * 5\n",
    "    return length_score\n",
    "\n",
    "def final_grade(filename):\n",
    "    a = chkr_set_text(filename)\n",
    "    b = simplicity_clarity(filename)\n",
    "    c = TTR_score(filename)\n",
    "    d = length_score(filename)\n",
    "    \n",
    "    final_grade = a+b+c+d\n",
    "    return final_grade\n",
    "        \n",
    "def gradescores(filename):\n",
    "    finalgrade = final_grade(filename)\n",
    "    if finalgrade >= 90:\n",
    "        print(\"You received an A\")\n",
    "    elif finalgrade >= 80:\n",
    "        print(\"You received a B\")\n",
    "    elif finalgrade >= 70:\n",
    "        print(\"You received a C\")\n",
    "    elif finalgrade >= 60:\n",
    "        print(\"You received a D\")\n",
    "    else:\n",
    "        print(\"Sorry, you received an F\")\n",
    "    \n",
    "gradescores(\"Agatha.txt\")"
   ]
  },
  {
   "cell_type": "code",
   "execution_count": 5,
   "metadata": {},
   "outputs": [
    {
     "ename": "ModuleNotFoundError",
     "evalue": "No module named 'enchant'",
     "output_type": "error",
     "traceback": [
      "\u001b[0;31m---------------------------------------------------------------------------\u001b[0m",
      "\u001b[0;31mModuleNotFoundError\u001b[0m                       Traceback (most recent call last)",
      "\u001b[0;32m<ipython-input-5-a885a78b87ef>\u001b[0m in \u001b[0;36m<module>\u001b[0;34m()\u001b[0m\n\u001b[1;32m     21\u001b[0m     \u001b[0mspelling_score\u001b[0m \u001b[0;34m=\u001b[0m \u001b[0mspelling_score\u001b[0m \u001b[0;34m*\u001b[0m\u001b[0;36m1.5\u001b[0m\u001b[0;34m\u001b[0m\u001b[0m\n\u001b[1;32m     22\u001b[0m     \u001b[0;32mreturn\u001b[0m \u001b[0mspelling_score\u001b[0m\u001b[0;34m\u001b[0m\u001b[0m\n\u001b[0;32m---> 23\u001b[0;31m \u001b[0mchkr_set_text\u001b[0m\u001b[0;34m(\u001b[0m\u001b[0;34m\"Davis.txt\"\u001b[0m\u001b[0;34m)\u001b[0m\u001b[0;34m\u001b[0m\u001b[0m\n\u001b[0m",
      "\u001b[0;32m<ipython-input-5-a885a78b87ef>\u001b[0m in \u001b[0;36mchkr_set_text\u001b[0;34m(filename)\u001b[0m\n\u001b[1;32m      4\u001b[0m \u001b[0;31m#grade for number of spelling errors\u001b[0m\u001b[0;34m\u001b[0m\u001b[0;34m\u001b[0m\u001b[0m\n\u001b[1;32m      5\u001b[0m \u001b[0;32mdef\u001b[0m \u001b[0mchkr_set_text\u001b[0m\u001b[0;34m(\u001b[0m\u001b[0mfilename\u001b[0m\u001b[0;34m)\u001b[0m\u001b[0;34m:\u001b[0m\u001b[0;34m\u001b[0m\u001b[0m\n\u001b[0;32m----> 6\u001b[0;31m     \u001b[0;32mfrom\u001b[0m \u001b[0menchant\u001b[0m\u001b[0;34m.\u001b[0m\u001b[0mchecker\u001b[0m \u001b[0;32mimport\u001b[0m \u001b[0mSpellChecker\u001b[0m\u001b[0;34m\u001b[0m\u001b[0m\n\u001b[0m\u001b[1;32m      7\u001b[0m     \u001b[0mSpellChecker\u001b[0m\u001b[0;34m(\u001b[0m\u001b[0;34m\"en_GB\"\u001b[0m\u001b[0;34m)\u001b[0m\u001b[0;34m\u001b[0m\u001b[0m\n\u001b[1;32m      8\u001b[0m     \u001b[0;32mwith\u001b[0m \u001b[0mopen\u001b[0m\u001b[0;34m(\u001b[0m\u001b[0mfilename\u001b[0m\u001b[0;34m,\u001b[0m \u001b[0;34m\"r\"\u001b[0m\u001b[0;34m,\u001b[0m\u001b[0mencoding\u001b[0m\u001b[0;34m=\u001b[0m\u001b[0;34m'utf-8'\u001b[0m\u001b[0;34m)\u001b[0m \u001b[0;32mas\u001b[0m \u001b[0mF\u001b[0m\u001b[0;34m:\u001b[0m\u001b[0;34m\u001b[0m\u001b[0m\n",
      "\u001b[0;31mModuleNotFoundError\u001b[0m: No module named 'enchant'"
     ]
    }
   ],
   "source": [
    "#from enchant.checker import SpellChecker\n",
    "from random import randint\n",
    "\n",
    "#grade for number of spelling errors\n",
    "def chkr_set_text(filename):\n",
    "    from enchant.checker import SpellChecker\n",
    "    SpellChecker(\"en_GB\")\n",
    "    with open(filename, \"r\",encoding='utf-8') as F:\n",
    "        text = F.read()\n",
    "    chkr.set_text(text)\n",
    "    error_word = []\n",
    "    spelling_score = 0\n",
    "    for err in chkr:\n",
    "        error_word.append(err.word)\n",
    "        if len(error_word) >= 30:\n",
    "            spelling_score = randint(4,5)\n",
    "        elif len(error_word) <= 25:\n",
    "            spelling_score = randint(6,9)\n",
    "        elif len(error_word) <= 10:\n",
    "            spelling_score = randint(9,10)\n",
    "    spelling_score = spelling_score *1.5\n",
    "    return spelling_score\n",
    "chkr_set_text(\"Davis.txt\")"
   ]
  },
  {
   "cell_type": "code",
   "execution_count": 3,
   "metadata": {},
   "outputs": [
    {
     "ename": "ModuleNotFoundError",
     "evalue": "No module named 'enchant'",
     "output_type": "error",
     "traceback": [
      "\u001b[0;31m---------------------------------------------------------------------------\u001b[0m",
      "\u001b[0;31mModuleNotFoundError\u001b[0m                       Traceback (most recent call last)",
      "\u001b[0;32m<ipython-input-3-ef2d4e8f4b26>\u001b[0m in \u001b[0;36m<module>\u001b[0;34m()\u001b[0m\n\u001b[1;32m      3\u001b[0m     \u001b[0mSpellChecker\u001b[0m\u001b[0;34m(\u001b[0m\u001b[0;34m\"en_GB\"\u001b[0m\u001b[0;34m)\u001b[0m\u001b[0;34m\u001b[0m\u001b[0m\n\u001b[1;32m      4\u001b[0m     \u001b[0;32mreturn\u001b[0m \u001b[0mSpellChecker\u001b[0m\u001b[0;34m(\u001b[0m\u001b[0;34m)\u001b[0m\u001b[0;34m\u001b[0m\u001b[0m\n\u001b[0;32m----> 5\u001b[0;31m \u001b[0mchkr_set_text\u001b[0m\u001b[0;34m(\u001b[0m\u001b[0;34m\"Davis.txt\"\u001b[0m\u001b[0;34m)\u001b[0m\u001b[0;34m\u001b[0m\u001b[0m\n\u001b[0m",
      "\u001b[0;32m<ipython-input-3-ef2d4e8f4b26>\u001b[0m in \u001b[0;36mchkr_set_text\u001b[0;34m(filename)\u001b[0m\n\u001b[1;32m      1\u001b[0m \u001b[0;32mdef\u001b[0m \u001b[0mchkr_set_text\u001b[0m\u001b[0;34m(\u001b[0m\u001b[0mfilename\u001b[0m\u001b[0;34m)\u001b[0m\u001b[0;34m:\u001b[0m\u001b[0;34m\u001b[0m\u001b[0m\n\u001b[0;32m----> 2\u001b[0;31m     \u001b[0;32mfrom\u001b[0m \u001b[0menchant\u001b[0m\u001b[0;34m.\u001b[0m\u001b[0mchecker\u001b[0m \u001b[0;32mimport\u001b[0m \u001b[0mSpellChecker\u001b[0m\u001b[0;34m\u001b[0m\u001b[0m\n\u001b[0m\u001b[1;32m      3\u001b[0m     \u001b[0mSpellChecker\u001b[0m\u001b[0;34m(\u001b[0m\u001b[0;34m\"en_GB\"\u001b[0m\u001b[0;34m)\u001b[0m\u001b[0;34m\u001b[0m\u001b[0m\n\u001b[1;32m      4\u001b[0m     \u001b[0;32mreturn\u001b[0m \u001b[0mSpellChecker\u001b[0m\u001b[0;34m(\u001b[0m\u001b[0;34m)\u001b[0m\u001b[0;34m\u001b[0m\u001b[0m\n\u001b[1;32m      5\u001b[0m \u001b[0mchkr_set_text\u001b[0m\u001b[0;34m(\u001b[0m\u001b[0;34m\"Davis.txt\"\u001b[0m\u001b[0;34m)\u001b[0m\u001b[0;34m\u001b[0m\u001b[0m\n",
      "\u001b[0;31mModuleNotFoundError\u001b[0m: No module named 'enchant'"
     ]
    }
   ],
   "source": [
    "def chkr_set_text(filename):\n",
    "    from enchant.checker import SpellChecker\n",
    "    SpellChecker(\"en_GB\")\n",
    "    return SpellChecker()\n",
    "chkr_set_text(\"Davis.txt\")"
   ]
  },
  {
   "cell_type": "code",
   "execution_count": null,
   "metadata": {
    "collapsed": true
   },
   "outputs": [],
   "source": []
  }
 ],
 "metadata": {
  "kernelspec": {
   "display_name": "Python 3",
   "language": "python",
   "name": "python3"
  },
  "language_info": {
   "codemirror_mode": {
    "name": "ipython",
    "version": 3
   },
   "file_extension": ".py",
   "mimetype": "text/x-python",
   "name": "python",
   "nbconvert_exporter": "python",
   "pygments_lexer": "ipython3",
   "version": "3.6.5"
  }
 },
 "nbformat": 4,
 "nbformat_minor": 2
}
